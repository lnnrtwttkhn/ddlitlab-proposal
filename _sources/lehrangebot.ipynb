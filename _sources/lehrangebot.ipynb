{
 "cells": [
  {
   "cell_type": "markdown",
   "metadata": {},
   "source": [
    "# Beschreibung des Lehrangebots\n",
    "\n",
    "(maximal 3.750 Zeichen – exkl. Leerzeichen)\n",
    "\n",
    "Erläutern Sie hier bitte:\n",
    "\n",
    "1. Die Inhalte Ihrer Lehrveranstaltung.\n",
    "1. Ihr Verständnis von Data Literacy, welche Aspekte von Data Literacy Sie in Ihrem Projekt aufgreifen und den Beitrag Ihrer Projektidee für die Data Literacy Education an der UHH.\n",
    "1. Möglichkeiten der Übertragbarkeit und Verstetigung Ihres Lehrangebots."
   ]
  },
  {
   "cell_type": "markdown",
   "metadata": {},
   "source": []
  },
  {
   "cell_type": "code",
   "execution_count": null,
   "metadata": {},
   "outputs": [],
   "source": [
    "!python ../scripts/wordcount.py lehrangebot.ipynb"
   ]
  }
 ],
 "metadata": {
  "kernelspec": {
   "display_name": "Python 3.10.7 ('env': venv)",
   "language": "python",
   "name": "python3"
  },
  "language_info": {
   "name": "python",
   "version": "3.10.7"
  },
  "orig_nbformat": 4,
  "vscode": {
   "interpreter": {
    "hash": "c2e4b27d2b2866ac3963aeec86b6f8dd5d91c6a801287beb2d845a83c4b6868e"
   }
  }
 },
 "nbformat": 4,
 "nbformat_minor": 2
}
