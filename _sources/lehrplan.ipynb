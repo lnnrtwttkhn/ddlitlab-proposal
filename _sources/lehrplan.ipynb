{
 "cells": [
  {
   "cell_type": "markdown",
   "metadata": {},
   "source": [
    "# Lehrplan\n",
    "\n",
    "```{note}\n",
    "Der Lehrplan befindet sich noch in der Entwicklung! 👷‍♂️🏗🚚\n",
    "```\n",
    "\n",
    "**Wintersemester 2023/34:**\n",
    "\n",
    "- **Semester:** 1. Oktober 2023 - 31. März 2024\n",
    "- **Vorlesungszeit:** 9. Oktober 2023 - 27. Januar 2024\n",
    "- **Weihnachtsferien:** 24. Dezember 2023 - 7. Januar 2024\n",
    "- **Anzahl Veranstaltungen:** 14 Veranstaltungen\n",
    "\n",
    "## Übersicht"
   ]
  },
  {
   "cell_type": "code",
   "execution_count": null,
   "metadata": {
    "tags": [
     "hide-input",
     "remove-input"
    ]
   },
   "outputs": [],
   "source": [
    "import pandas as pd\n",
    "from IPython.display import display, HTML\n",
    "column_names = ['KW', 'Themenbereich', 'Einheit', 'Demonstrationen']\n",
    "events = [\n",
    "    [41, 'Einleitung', 'Konzepte (Open Code, Open Data), Organisatorisches', 'NA'],\n",
    "    [42, 'Kommandozeile', 'Einführung', 'NA'],\n",
    "    [43, 'Kommandozeile', ['cd', 'ls', 'touch']],\n",
    "    [44, 'Git', 'Einführung: Git, GitHub, GitLab, GitHub Education Pack', ['git config']],\n",
    "    [45, 'Git', 'Basics', ['git init', 'git clone', 'git status', 'git add', 'git commit', 'git diff', 'git log']],\n",
    "    [46, 'Git', 'Undoing changes', ['git reset',]],\n",
    "    [47, 'Git', 'Branches', ['git branch', 'git checkout', 'git merge']],\n",
    "    [48, 'Git', 'Kollaboration (GitHub, GitLab), Merge Conflicts', ['git remote', 'git push', 'git pull', 'git fetch']],\n",
    "    [49, 'DataLad', 'Einführung: DataLad', 'NA'],\n",
    "    [50, 'DataLad', 'Basics', ['clone', 'install', 'save'] ],\n",
    "    [51, 'DataLad', 'NA', 'NA'],\n",
    "    [52, 'Weihnachtsferien', 'NA', 'NA'],\n",
    "    [1, 'Weihnachtsferien', 'NA', 'NA'],\n",
    "    [2, 'DataLad', 'NA', 'NA'],\n",
    "    [3, 'DataLad', 'NA', 'NA'],\n",
    "    [4, 'Abschluss', 'NA', 'NA'],\n",
    "]\n",
    "df_events = pd.DataFrame(events, columns=column_names)\n",
    "display(HTML(df_events.to_html(index=False)))"
   ]
  }
 ],
 "metadata": {
  "kernelspec": {
   "display_name": "Python 3.10.7 ('env': venv)",
   "language": "python",
   "name": "python3"
  },
  "language_info": {
   "codemirror_mode": {
    "name": "ipython",
    "version": 3
   },
   "file_extension": ".py",
   "mimetype": "text/x-python",
   "name": "python",
   "nbconvert_exporter": "python",
   "pygments_lexer": "ipython3",
   "version": "3.10.9 (main, Dec 15 2022, 10:44:50) [Clang 14.0.0 (clang-1400.0.29.202)]"
  },
  "orig_nbformat": 4,
  "vscode": {
   "interpreter": {
    "hash": "c2e4b27d2b2866ac3963aeec86b6f8dd5d91c6a801287beb2d845a83c4b6868e"
   }
  }
 },
 "nbformat": 4,
 "nbformat_minor": 2
}
