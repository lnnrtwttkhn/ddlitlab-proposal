{
 "cells": [
  {
   "cell_type": "markdown",
   "metadata": {},
   "source": [
    "# Lehrkonzept\n",
    "\n",
    "(maximal 3.000 Zeichen – exklusive Leerzeichen)\n",
    "\n",
    "> Skizzieren Sie hier Ihr Lehrkonzept und stellen möglichst konkret dar, was, wie und warum weiterentwickelt/neu konzipiert werden soll.\n",
    "> Gehen Sie dabei auch auf den Einsatz digitaler Technologien (z.B. Jupyter Notebooks) und die Gestaltung des digitalen bzw. hybriden Lehr-Lern-Settings ein.\n",
    "\n",
    "---"
   ]
  },
  {
   "cell_type": "markdown",
   "metadata": {
    "tags": [
     "countthis"
    ]
   },
   "source": [
    "Das didaktische Lehrkonzept besteht aus einem Seminar (2 SWS) mit Impulsvorträgen der Lehrenden (30 - 50 %) und praktischen Übungen (50 - 70 %).\n",
    "Die Vorträge vermitteln theoretische Grundlagen (z.B. Reproduzierbarkeit, Open Code, Open Data) und gehen in interaktive Demonstrationen von Git und DataLad über (\"code-along\").\n",
    "Diese Lehrformen werden durch betreute Übungen in Kleingruppen ergänzt, die außerhalb der Veranstaltung weitergeführt werden.\n",
    "Die Lehrveranstaltungen werden durch kontinuierliche Evaluation und Quizfragen zur Selbstüberprüfung begleitet, die in LimeSurvey [^limesurvey] realisiert und von der WHK betreut werden.\n",
    "Die Daten der Evaluationen und Quizfragen werden anonymisiert gespeichert und innerhalb der Lehrveranstaltung als exemplarische Datensätze wiederverwendet.\n",
    "Alle eingesetzten Software-Tools sind open-source, kostenlos nutzbar, für alle Betriebssysteme (macOS, Linux, Windows) verfügbar und werden mehrheitlich durch die Universität Hamburg bereitgestellt.\n",
    "Da Git und DataLad primär für die Nutzung über die Kommandozeile entwickelt wurden, fokussiert das Lehrkonzept ebenfalls auf die Interaktion mit der Kommandozeile.\n",
    "Die Kommandozeile ist ein Teil eines Computerprogramms, das eine Textzeile als Eingabe entgegennimmt und im Kontext als Kommando interpretiert.\n",
    "In den ersten Lehreinheiten werden grundlegende Konzepte und Befehle der Kommandozeile demonstriert und in gemeinsamen Übungen erprobt.\n",
    "Es stehen auch grafische Benutzeroberflächen (Graphical User Interfaces; GUIs) zur Verfügung, die als Alternative zur Kommandozeile angeboten werden.\n",
    "Als GUI für Git wird \"GitKraken\" verwendet, das über das GitHub Student Developer Pack für Studierende in einer kostenlosen Pro-Version zur Verfügung steht [^gitkraken].\n",
    "Als GUI für DataLad wird \"DataLad Gooey\" [^dataladgooey] verwendet.\n",
    "Zur Erstellung der Lehrmaterialien (Projekt-Website, Präsentationen, praktische Übungen) werden primär die digitalen Technologien Jupyter Notebooks [^jupyter] und Quarto [^quarto] verwendet.\n",
    "Git und DataLad können auch innerhalb eines Jupyter Notebooks verwendet werden.\n",
    "Um möglichen Problemen bei der Software-Installation vorzubeugen, kann mit Jupyter Notebooks auch innerhalb vorbereiteter komputationaler Umgebungen interagiert werden, die über Jupyter-Hub der Uni Hamburg [^jupyterhub] oder Binder [^binder] bereitgestellt werden und durch den Webbrowser zugänglich sind.\n",
    "Alle Lehrmaterialien werden als Open Educational Resources u.a. über die Projektwebsite [^website] unter einer CC BY-SA 4.0 Lizenz [^ccybysa] veröffentlicht.\n",
    "Auffindbarkeit und Zitierfähigkeit der Lehrmaterialien werden durch persistente Identifier der Plattform Zenodo [^zenodo] gewährleistet.\n",
    "Der Lehrveranstaltungen werden in einem hybriden Lehr-Lern-Setting mittels Zoom [^zoom] durchgeführt.\n",
    "Die Impulsvorträge der Lehrenden werden aufgezeichnet und open-access über das Portal Lecture2Go [^lecture2go] zugänglich gemacht.\n",
    "In \"Breakout-Rooms\" können auch über Zoom parallel technische Probleme durch den/die Tutor:in gelöst werden. \n",
    "Außerhalb der Lehrveranstaltungen kann über die Plattform GitLab [^gitlab] kommuniziert werden.\n",
    "Grundlegende Programmierkenntnisse sind für die Veranstaltung vorteilhaft, werden aber nicht vorausgesetzt.\n",
    "Die Einführung aller verwendeten Software-Technologien ist Teil der Lehrveranstaltung.\n",
    "Die Antragsteller haben umfangreiche Erfahrungen in der Anwendung aller genannten Software-Tools in Forschung [^highspeed] und Lehre [^talkrdm].\n",
    "Die Inhalte dieses Antrags sind in Jupyter Notebooks dokumentiert und über eine Projektwebsite [^website] verfügbar."
   ]
  },
  {
   "cell_type": "code",
   "execution_count": null,
   "metadata": {
    "tags": [
     "remove-input"
    ]
   },
   "outputs": [],
   "source": [
    "!python ../scripts/wordcount.py lehrkonzept.ipynb"
   ]
  },
  {
   "cell_type": "markdown",
   "metadata": {},
   "source": [
    "## Inhaltliche Bewertungskriterien\n",
    "\n",
    "Aus den [Förderbedingungen, Seite 1](https://www.isa.uni-hamburg.de/ddlitlab/data-literacy-lehrlabor/projektfoerderung/ausschreibung-dle-lehrlabor-23.pdf):\n",
    "\n",
    "> Die Entwicklung didaktisch gut begründeter Lehr-Lernszenarien unter verantwortungsvoller Nutzung digitaler Technologien soll gefördert werden.\n",
    "> Ziel ist es, mit den Lehrprojekten auch didaktische und digitale Kompetenzen (Digital University Teaching Literacy) aufzubauen, (für den jeweiligen Kontext) neue und zu gesetzten Lehr-Lernzielen passende Lehrentwürfe auszuarbeiten, zu pilotieren und für andere nutzbar zu machen.\n",
    "> Dazu zählt beispielsweise der Einsatz von Jupyter Notebooks als interaktive Lernumgebungen oder zur Dokumentation, den wir in DDLitLab gezielt mit Schulungen und Beratungen fördern werden."
   ]
  },
  {
   "cell_type": "markdown",
   "metadata": {},
   "source": [
    "[^limesurvey]: https://umfragen.uni-hamburg.de/\n",
    "[^gitkraken]: https://www.gitkraken.com/github-student-developer-pack\n",
    "[^dataladgooey]: http://docs.datalad.org/projects/gooey/en/stable/\n",
    "[^jupyter]: https://jupyter.org/\n",
    "[^quarto]: https://quarto.org/\n",
    "[^ccybysa]: https://creativecommons.org/licenses/by-sa/4.0/\n",
    "[^zenodo]: https://zenodo.org/\n",
    "[^highspeed]: https://wittkuhn.mpib.berlin/highspeed/\n",
    "[^talkrdm]: https://lennartwittkuhn.com/talk-rdm/\n",
    "[^jupyterhub]: https://code.min.uni-hamburg.de/\n",
    "[^binder]: https://mybinder.org/\n",
    "[^zoom]: https://uni-hamburg.zoom.us/\n",
    "[^lecture2go]: https://lecture2go.uni-hamburg.de/\n",
    "[^gitlab]: https://gitlab.rrz.uni-hamburg.de\n",
    "[^jupyterbook]: https://jupyterbook.org/\n",
    "[^website]: https://lennartwittkuhn.com/ddtlitlab/"
   ]
  }
 ],
 "metadata": {
  "kernelspec": {
   "display_name": "Python 3.10.7 ('env': venv)",
   "language": "python",
   "name": "python3"
  },
  "language_info": {
   "codemirror_mode": {
    "name": "ipython",
    "version": 3
   },
   "file_extension": ".py",
   "mimetype": "text/x-python",
   "name": "python",
   "nbconvert_exporter": "python",
   "pygments_lexer": "ipython3",
   "version": "3.10.9 (main, Dec 15 2022, 10:44:50) [Clang 14.0.0 (clang-1400.0.29.202)]"
  },
  "orig_nbformat": 4,
  "vscode": {
   "interpreter": {
    "hash": "c2e4b27d2b2866ac3963aeec86b6f8dd5d91c6a801287beb2d845a83c4b6868e"
   }
  }
 },
 "nbformat": 4,
 "nbformat_minor": 2
}
