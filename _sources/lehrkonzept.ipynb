{
 "cells": [
  {
   "cell_type": "markdown",
   "metadata": {},
   "source": [
    "# Lehrkonzept\n",
    "\n",
    "(maximal 3.000 Zeichen – exkl. Leerzeichen)\n",
    "\n",
    "> Skizzieren Sie hier Ihr Lehrkonzept und stellen möglichst konkret dar, was, wie und warum weiterentwickelt/neu konzipiert werden soll.\n",
    "> Gehen Sie dabei auch auf den Einsatz digitaler Technologien (z.B. Jupyter Notebooks) und die Gestaltung des digitalen bzw. hybriden Lehr-Lern-Settings ein."
   ]
  },
  {
   "cell_type": "markdown",
   "metadata": {},
   "source": [
    "Das geplante Lehrkonzept besteht aus einem Seminar (2 SWS) mit Impulsvorträge der Lehrenden (30 - 50 %) und praktisch Übungen (50 - 70 %).\n",
    "Diese Lehrformen werden durch betreute Kleingruppenarbeiten begleitet, die im Rahmen der Seminarveranstaltung begonnen und außerhalb der Veranstaltung weitergeführt werden können.\n",
    "Die Lehrveranstaltungen werden außerdem durch kontinuierliche Evaluation und Quizfragen zur Selbstüberprüfung begleitet, die in LimeSurvey (https://umfragen.uni-hamburg.de/) realisiert werden.\n",
    "Die Daten der Evalutionen werden anonymisiert gespeichert und als exemplarischer Datensatz innerhalb der Veranstaltung wiederverwendet.\n",
    "Es wird erwartet, dass es die Motivation erhöht, an selbst generierten Daten zu arbeiten.\n",
    "Zur Erstellung der Lehrmateralien (Projekt-Website, Präsentationen, praktische Übungen) werden primär die digitalen Technologien Jupyter Notebooks (https://jupyter.org/) und Quarto Documents (https://quarto.org/) verwendet.\n",
    "Alle Lehrmaterialien werden als Open Educational Resources (OED) über die Projektwebsite unter einer CC BY-SA 4.0 Lizenz (https://creativecommons.org/licenses/by-sa/4.0/) veröffentlicht.\n",
    "Auffindbarkeit und Zitierfähigkeit der Lehrmaterialien werden durch persistente Identifier (DOIs) der Platform Zenodo (https://zenodo.org/) gewährleitest.\n",
    "Alle eingesetzten Software-Tools sind open-source, kostenlos nutzbar, für alle verbreiteten Betriebssysteme (macOS, Linux, Windows) verfügbar und werden mehrheitlich durch die Uni Hamburg bereitgestellt.\n",
    "In einer offenen Sprechstunde der Lehrenden können individuelle Lösungen bei Problemen mit der Installation gefunden werden.\n",
    "Die Lehrveranstaltungen werden in einem hybriden Lehr-Lern-Setting mittels Zoom (https://uni-hamburg.zoom.us/) durchgeführt.\n",
    "In sogenannten \"Breakout-Rooms\" können auch bei virtueller Teilnahme üer Zoom parallel technische Probleme durch die studentischen Hilfskräfte gelöst werden. \n",
    "Außerhalb der Lehrveranstaltungen können Lehrende und Lernende über die Platform GitLab (https://gitlab.rrz.uni-hamburg.de) kommunizieren.\n",
    "Die Einführung in alle verwendeten Software-Technologien sind Teil der Lehrveranstaltung."
   ]
  },
  {
   "cell_type": "code",
   "execution_count": 4,
   "metadata": {},
   "outputs": [
    {
     "name": "stderr",
     "output_type": "stream",
     "text": [
      "172.95s - pydevd: Sending message related to process being replaced timed-out after 5 seconds\n"
     ]
    },
    {
     "name": "stdout",
     "output_type": "stream",
     "text": [
      "Anzahl an Zeichen: 1864 (exkl. Leerzeichen)\n"
     ]
    }
   ],
   "source": [
    "!python ../scripts/wordcount.py lehrkonzept.ipynb"
   ]
  }
 ],
 "metadata": {
  "kernelspec": {
   "display_name": "Python 3.10.7 ('env': venv)",
   "language": "python",
   "name": "python3"
  },
  "language_info": {
   "codemirror_mode": {
    "name": "ipython",
    "version": 3
   },
   "file_extension": ".py",
   "mimetype": "text/x-python",
   "name": "python",
   "nbconvert_exporter": "python",
   "pygments_lexer": "ipython3",
   "version": "3.10.7"
  },
  "orig_nbformat": 4,
  "vscode": {
   "interpreter": {
    "hash": "c2e4b27d2b2866ac3963aeec86b6f8dd5d91c6a801287beb2d845a83c4b6868e"
   }
  }
 },
 "nbformat": 4,
 "nbformat_minor": 2
}
