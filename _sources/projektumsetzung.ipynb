{
 "cells": [
  {
   "cell_type": "markdown",
   "metadata": {},
   "source": [
    "# Projektumsetzung\n",
    "## Zeitplan\n",
    "Bitte stellen Sie (dem Beispiel entsprechend, beginnend mit dem ersten Projektmonat) in der nachstehenden Tabelle dar, wie Sie die zeitliche Umsetzung des Projekts planen."
   ]
  },
  {
   "cell_type": "code",
   "execution_count": null,
   "metadata": {
    "tags": [
     "remove-input"
    ]
   },
   "outputs": [],
   "source": [
    "import pandas as pd\n",
    "from IPython.display import display\n",
    "\n",
    "def apply_formatting(col):\n",
    "    return ['background-color: red' if c == ' ' else '' for c in col.values]\n",
    "\n",
    "column_names = ['Umsetzungsschritt', 'Apr', 'Mai', 'Jun', 'Aug', 'Sep', 'Okt', 'Nov', 'Dez', 'Jan', 'Feb', 'Mär']\n",
    "events = [\n",
    "    ['Inhaltliche Vorbereitung der Aufgaben', ' ', 'Mai', 'Jun', 'Aug', 'Sep', 'Okt', 'Nov', 'Dez', 'Jan', 'Feb', 'Mär']\n",
    "]\n",
    "\n",
    "df_timeline = pd.DataFrame(events, columns=column_names)\n",
    "df_timeline.reset_index(drop=True, inplace=True)\n",
    "df_timeline = df_timeline.style.apply(apply_formatting)\n",
    "df_timeline"
   ]
  },
  {
   "cell_type": "markdown",
   "metadata": {},
   "source": [
    "## Personaleinsatz\n",
    "Bitte geben Sie in der nachfolgenden Tabelle (dem Beispiel entsprechend) an,\n",
    "- welche Art von Personal (wissenschaftliche Mitarbeitende mit 50% Stellenanteil, studentische Hilfskräfte, studentische oder akademische Tutor:innen),\n",
    "- in welchem Umfang,\n",
    "- in welchem Zeitraum eingesetzt werden soll,\n",
    "- welches Budget Sie für die Stelle beantragen und\n",
    "- ob Sie die Stelle für eine bestimmte Person beantragen, die bereits an der UHH beschäftigt ist.\n",
    "Machen Sie weiterhin Angaben zu den Aufgaben, die von der betreffenden Person übernommen werden sollen."
   ]
  },
  {
   "cell_type": "code",
   "execution_count": null,
   "metadata": {
    "tags": [
     "remove-input"
    ]
   },
   "outputs": [],
   "source": [
    "import pandas as pd\n",
    "from IPython.display import display\n",
    "column_names = ['Personalart', 'Stellenanteil', 'Einstellungszeitraum', 'Kosten', 'Person an der UHH beschäftigt?', 'Aufgaben']\n",
    "events = [\n",
    "    [\n",
    "        'Wissenschaftliche:r Mitarbeiter:in E-13, Stufe 1',\n",
    "        '50 %',\n",
    "        '01.04.2023 - 31.03.2024',\n",
    "        'XXX Euro',\n",
    "        'Ja [Aufstockung]',\n",
    "        'Erstellung des Lehrkonzepts, Betreung der Studierenden'\n",
    "    ],\n",
    "    [\n",
    "        'Wissenschaftliche Hilfskraft (mit Bachelor-Abschluss)',\n",
    "        '40 Stunden pro Monat',\n",
    "        '01.07.2023 - 31.03.2024',\n",
    "        'XXX Euro',\n",
    "        'Nein [Neueinstellung]',\n",
    "        'Betreuung der Onlineplattform, Unterstützung bei der technischen Umsetzung'\n",
    "    ],\n",
    "]\n",
    "df_personel = pd.DataFrame(events, columns=column_names)\n",
    "display(df_personel)"
   ]
  },
  {
   "cell_type": "markdown",
   "metadata": {},
   "source": [
    "## Sachmitteleinsatz\n",
    "Bitte geben Sie in der nachfolgenden Tabelle (dem Beispiel entsprechend) an,\n",
    "- um welche Art Sachmittel es sich handelt,\n",
    "- welche Kosten hierdurch entstehen und\n",
    "- wozu die die Sachmittel jeweils verwendet werden sollen (Einsatz im Projekt)."
   ]
  },
  {
   "cell_type": "code",
   "execution_count": null,
   "metadata": {
    "tags": [
     "remove-input"
    ]
   },
   "outputs": [],
   "source": [
    "import pandas as pd\n",
    "from IPython.display import display\n",
    "column_names = ['Sachmittelart', 'Kosten', 'Einsatz im Projekt']\n",
    "events = [\n",
    "    [\n",
    "        'XX',\n",
    "        'XX',\n",
    "        'XX',\n",
    "    ],\n",
    "]\n",
    "df_expenses = pd.DataFrame(events, columns=column_names)\n",
    "display(df_expenses)"
   ]
  }
 ],
 "metadata": {
  "kernelspec": {
   "display_name": "Python 3.10.7 ('env': venv)",
   "language": "python",
   "name": "python3"
  },
  "language_info": {
   "codemirror_mode": {
    "name": "ipython",
    "version": 3
   },
   "file_extension": ".py",
   "mimetype": "text/x-python",
   "name": "python",
   "nbconvert_exporter": "python",
   "pygments_lexer": "ipython3",
   "version": "3.10.7"
  },
  "orig_nbformat": 4,
  "vscode": {
   "interpreter": {
    "hash": "c2e4b27d2b2866ac3963aeec86b6f8dd5d91c6a801287beb2d845a83c4b6868e"
   }
  }
 },
 "nbformat": 4,
 "nbformat_minor": 2
}
