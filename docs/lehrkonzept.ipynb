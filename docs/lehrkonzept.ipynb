{
 "cells": [
  {
   "cell_type": "markdown",
   "metadata": {},
   "source": [
    "# Lehrkonzept\n",
    "\n",
    "(maximal 3.000 Zeichen – exklusive Leerzeichen)\n",
    "\n",
    "> Skizzieren Sie hier Ihr Lehrkonzept und stellen möglichst konkret dar, was, wie und warum weiterentwickelt/neu konzipiert werden soll.\n",
    "> Gehen Sie dabei auch auf den Einsatz digitaler Technologien (z.B. Jupyter Notebooks) und die Gestaltung des digitalen bzw. hybriden Lehr-Lern-Settings ein.\n",
    "\n",
    "---"
   ]
  },
  {
   "cell_type": "markdown",
   "metadata": {
    "tags": [
     "countthis"
    ]
   },
   "source": [
    "Das Lehrkonzept besteht aus einem Seminar (2 SWS, 90 Minuten) mit Impulsvorträgen der Lehrenden (ca. 30 - 50 % der Einheit) und praktischen Übungen (ca. 50 - 70 % der Einheit).\n",
    "Die Impulsvorträge vermitteln theoretische Grundlagen für die jeweilige Einheit und gehen in praktische Demonstrationen über, die von den Studierenden mitgemacht werden können (\"live coding\" und \"code-along\").\n",
    "Diese Lehrformen werden durch betreute Übungen in Kleingruppen begleitet, die im Rahmen der Seminarveranstaltung begonnen und außerhalb der Veranstaltung weitergeführt werden können.\n",
    "Die Lehrveranstaltungen werden außerdem durch kontinuierliche Evaluation und Quizfragen zur Selbstüberprüfung begleitet, die in LimeSurvey [^limesurvey] realisiert werden.\n",
    "Die Daten der Evaluationen werden anonymisiert gespeichert und zu einem späteren Zeitpunkt innerhalb der Lehrveranstaltung als exemplarischer Datensatz wiederverwendet.\n",
    "Es wird erwartet, dass es die Motivation erhöht, an selbst generierten Daten zu arbeiten.\n",
    "Alle eingesetzten Software-Tools sind open-source, kostenlos nutzbar, für alle bekannten Betriebssysteme (macOS, Linux, Windows) verfügbar und werden mehrheitlich durch die Universität Hamburg bereitgestellt.\n",
    "Da Git und DataLad primär für die Nutzung mittels der Kommandozeile (auf Englisch \"command line\") entwickelt wurden, fokussiert das Lehrkonzept ebenfalls auf die Interaktion mit der Kommandozeile.\n",
    "Die Kommandozeile oder Befehlszeile ist ein Teil eines Computerprogramms, das eine Textzeile als Eingabe entgegennimmt und im Kontext als Kommando interpretiert.\n",
    "In den ersten Lehreinheiten werden grundlegende Konzepte und Befehle der Kommandozeile demonstriert und in gemeinsamen Übungen erprobt.\n",
    "Es stehen jedoch auch grafische Benutzeroberflächen (Graphical User Interfaces; GUIs) zur Verfügung, die als Alternative zur Kommandozeile angeboten werden.\n",
    "Als GUI für Git wird \"GitKraken\" verwendet, das über das GitHub Student Developer Pack für Studierende in einer kostenloses Pro-Version zur Verfügung steht [^gitkraken].\n",
    "Als GUI für DataLad wird \"DataLad Gooey\" [^dataladgooey] verwendet, das als Python Package installiert werden kann.\n",
    "Zur Erstellung der Lehrmaterialien (Projekt-Website, Präsentationen, praktische Übungen) werden primär die digitalen Technologien Jupyter Notebooks [^jupyter] und Quarto Documents [^quarto] verwendet.\n",
    "Git- und DataLad-Befehle können auch innerhalb eines Jupyter-Notebooks verwendet werden.\n",
    "Alle Lehrmaterialien werden als Open Educational Resources (OED) über die Projektwebsite unter einer CC BY-SA 4.0 Lizenz [^ccybysa] veröffentlicht.\n",
    "Auffindbarkeit und Zitierfähigkeit der Lehrmaterialien werden durch persistente Identifier der Platform Zenodo [^zenodo] gewährleistet.\n",
    "Die Antragsteller haben umfangreiche Erfahrungen in der Anwendung aller genannten Software-Tools in Forschung [^highspeed] und Lehre [^talkrdm].\n",
    "Um möglichen Problemen bei der Software-Installation vorzubeugen, kann mit Jupyter-Notebooks auch innerhalb vorbereiteter komputationaler Umgebungen interagiert werden, die über Jupyter-Hub der Universität Hamburg [^jupyterhub] oder Binder [^binder] bereitgestellt werden und durch den Webbrowser zugänglich sind.\n",
    "In einer offenen Sprechstunde der Lehrenden können individuelle Lösungen bei Problemen mit der Installation gefunden werden.\n",
    "Der Lehrveranstaltungen werden in einem hybriden Lehr-Lern-Setting mittels Zoom [^zoom] durchgeführt.\n",
    "Die Impulsvorträge der Lehrenden zu Beginn jeder Einheit werden aufgezeichnet und im Sinne von Open Access über das Portal Lecture2Go der Uni Hamburg [^lecture2go] und YouTube [^youtube] zugänglich gemacht.\n",
    "In sogenannten \"Breakout-Rooms\" können auch bei virtueller Teilnahme üer Zoom parallel technische Probleme durch den/die Tutor:in gelöst werden. \n",
    "Außerhalb der Lehrveranstaltungen können Lehrende und Lernende über die Platform GitLab [^gitlab] kommunizieren.\n",
    "Grundlegende Programmierkenntnisse sind für die Veranstaltung vorteilhaft, werden aber nicht vorausgesetzt.\n",
    "Die Einführung aller verwendeten Software-Technologien sind Teil der Lehrveranstaltung.\n",
    "Die Inhalte dieses Antrags und weitere Ressourcen sind in Jupyter Notebooks dokumentiert und über eine Projekt-Website [^website] verfügbar."
   ]
  },
  {
   "cell_type": "code",
   "execution_count": null,
   "metadata": {
    "tags": [
     "remove-input"
    ]
   },
   "outputs": [],
   "source": [
    "!python ../scripts/wordcount.py lehrkonzept.ipynb"
   ]
  },
  {
   "cell_type": "markdown",
   "metadata": {},
   "source": [
    "## Links\n",
    "\n",
    "[^limesurvey]: https://umfragen.uni-hamburg.de/\n",
    "[^gitkraken]: https://www.gitkraken.com/github-student-developer-pack\n",
    "[^dataladgooey]: http://docs.datalad.org/projects/gooey/en/stable/\n",
    "[^jupyter]: https://jupyter.org/\n",
    "[^quarto]: https://quarto.org/\n",
    "[^ccybysa]: https://creativecommons.org/licenses/by-sa/4.0/\n",
    "[^zenodo]: https://zenodo.org/\n",
    "[^highspeed]: https://wittkuhn.mpib.berlin/highspeed/\n",
    "[^talkrdm]: https://lennartwittkuhn.com/talk-rdm/\n",
    "[^jupyterhub]: https://code.min.uni-hamburg.de/\n",
    "[^binder]: https://mybinder.org/\n",
    "[^zoom]: https://uni-hamburg.zoom.us/\n",
    "[^lecture2go]: https://lecture2go.uni-hamburg.de/\n",
    "[^youtube]: https://www.youtube.com/\n",
    "[^gitlab]: https://gitlab.rrz.uni-hamburg.de\n",
    "[^jupyterbook]: https://jupyterbook.org/\n",
    "[^website]: https://lennartwittkuhn.com/ddtlitlab/"
   ]
  }
 ],
 "metadata": {
  "kernelspec": {
   "display_name": "Python 3.10.7 ('env': venv)",
   "language": "python",
   "name": "python3"
  },
  "language_info": {
   "codemirror_mode": {
    "name": "ipython",
    "version": 3
   },
   "file_extension": ".py",
   "mimetype": "text/x-python",
   "name": "python",
   "nbconvert_exporter": "python",
   "pygments_lexer": "ipython3",
   "version": "3.10.7"
  },
  "orig_nbformat": 4,
  "vscode": {
   "interpreter": {
    "hash": "c2e4b27d2b2866ac3963aeec86b6f8dd5d91c6a801287beb2d845a83c4b6868e"
   }
  }
 },
 "nbformat": 4,
 "nbformat_minor": 2
}
