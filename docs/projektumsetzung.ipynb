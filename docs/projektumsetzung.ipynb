{
 "cells": [
  {
   "cell_type": "markdown",
   "metadata": {},
   "source": [
    "# Projektumsetzung\n",
    "## Zeitplan\n",
    "Bitte stellen Sie (dem Beispiel entsprechend, beginnend mit dem ersten Projektmonat) in der nachstehenden Tabelle dar, wie Sie die zeitliche Umsetzung des Projekts planen."
   ]
  },
  {
   "cell_type": "code",
   "execution_count": null,
   "metadata": {
    "tags": [
     "remove-input"
    ]
   },
   "outputs": [],
   "source": [
    "import pandas as pd\n",
    "from IPython.display import display\n",
    "\n",
    "def apply_formatting(col):\n",
    "    return ['background-color: red' if c == ' ' else '' for c in col.values]\n",
    "\n",
    "column_names = ['Umsetzungsschritt', 'Apr', 'Mai', 'Jun', 'Aug', 'Sep', 'Okt', 'Nov', 'Dez', 'Jan', 'Feb', 'Mär']\n",
    "events = [\n",
    "    ['Inhaltliche Vorbereitung der Aufgaben', ' ', 'Mai', 'Jun', 'Aug', 'Sep', 'Okt', 'Nov', 'Dez', 'Jan', 'Feb', 'Mär']\n",
    "]\n",
    "\n",
    "df_timeline = pd.DataFrame(events, columns=column_names)\n",
    "df_timeline.reset_index(drop=True, inplace=True)\n",
    "df_timeline = df_timeline.style.apply(apply_formatting)\n",
    "df_timeline"
   ]
  },
  {
   "cell_type": "markdown",
   "metadata": {},
   "source": [
    "## Personaleinsatz\n",
    "Bitte geben Sie in der nachfolgenden Tabelle (dem Beispiel entsprechend) an,\n",
    "- welche Art von Personal (wissenschaftliche Mitarbeitende mit 50% Stellenanteil, studentische Hilfskräfte, studentische oder akademische Tutor:innen),\n",
    "- in welchem Umfang,\n",
    "- in welchem Zeitraum eingesetzt werden soll,\n",
    "- welches Budget Sie für die Stelle beantragen und\n",
    "- ob Sie die Stelle für eine bestimmte Person beantragen, die bereits an der UHH beschäftigt ist.\n",
    "Machen Sie weiterhin Angaben zu den Aufgaben, die von der betreffenden Person übernommen werden sollen."
   ]
  },
  {
   "cell_type": "code",
   "execution_count": null,
   "metadata": {
    "tags": [
     "remove-input"
    ]
   },
   "outputs": [],
   "source": [
    "import pandas as pd\n",
    "from IPython.display import display\n",
    "pd.set_option('display.max_columns', None)\n",
    "pd.set_option('display.max_rows', None)\n",
    "\n",
    "def get_weeks(d1, d2):\n",
    "    from datetime import datetime, timedelta\n",
    "    d1 = datetime.strptime(d1, '%d.%m.%Y')\n",
    "    d2 = datetime.strptime(d2, '%d.%m.%Y')\n",
    "    monday1 = (d1 - timedelta(days=d1.weekday()))\n",
    "    monday2 = (d2 - timedelta(days=d2.weekday()))\n",
    "    weeks = (monday2 - monday1).days / 7\n",
    "    return weeks\n",
    "\n",
    "\n",
    "# Wissenschaftliche:r Mitarbeiter:in E-13, Stufe 4 (Entgeltgruppe E 13, Stufe 4, Tabelle 01.12.2022 - 30.09.2023)\n",
    "wimi_pay_month = 2607.86  # euro\n",
    "wimi_date_start = '01.04.2023'\n",
    "wimi_date_stop = '31.03.2024'\n",
    "wimi_months_total = 12\n",
    "wimi_pay_total = wimi_pay_month * wimi_months_total\n",
    "\n",
    "# https://www.kus.uni-hamburg.de/themen/personalservice/personaleinstellung-weiterbeschaeftigung/shk-tutoren-studierende-angestellte.html\n",
    "whk_date_start = '01.07.2023'\n",
    "whk_date_stop = '31.03.2024'\n",
    "whk_weeks_total = get_weeks(d1=whk_date_start, d2=whk_date_stop)\n",
    "whk_pay_hour = 17.90  # whk pay per hour\n",
    "whk_hour_week = 5  # how many hours should the whk work per week\n",
    "whk_pay_total = round(whk_pay_hour * whk_hour_week * whk_weeks_total, 2)\n",
    "\n",
    "# https://www.kus.uni-hamburg.de/themen/personalservice/personaleinstellung-weiterbeschaeftigung/shk-tutoren-studierende-angestellte.html\n",
    "# Vorlesungszeitraum: 9. Oktober 2023 bis zum 27. Januar 2024\n",
    "tutor_date_start = '01.10.2023'\n",
    "tutor_date_stop = '31.01.2024'\n",
    "tutor_weeks_total = get_weeks(d1=tutor_date_start, d2=tutor_date_stop)\n",
    "tutor_pay_sws = 274.72  # tutor pay per SWS\n",
    "tutor_sws_week = 2  # how many hours should the tutor work per week (in sws)\n",
    "tutor_pay_total = round(tutor_pay_sws * tutor_sws_week * tutor_weeks_total, 2)\n",
    "\n",
    "\n",
    "column_names = ['Personalart', 'Stellenanteil', 'Einstellungszeitraum', 'Kosten', 'Person an der UHH beschäftigt?', 'Aufgaben']\n",
    "events = [\n",
    "    [\n",
    "        'Wissenschaftliche:r Mitarbeiter:in E 13, Stufe 4',\n",
    "        '50 %',\n",
    "        '{} - {}'.format(wimi_date_start, wimi_date_stop),\n",
    "        '%.2f Euro ' % wimi_pay_total + '(Gesamt Brutto im Einstellungszeitraum für Entgeltgruppe E 13 50\\%, Stufe 4, basierend auf Tabelle 01.12.2022 - 30.09.2023 TV-L, Quelle: https://oeffentlicher-dienst.info/c/t/rechner/tv-l/west?id=tv-l-2023)',\n",
    "        'Ja [Aufstockung]',\n",
    "        'Erstellung des Lehrkonzepts, Erstellung alle Lehreinheiten, Durchführung der Lehre, Erstellen von Präsentationen und Berichten'\n",
    "    ],\n",
    "    [\n",
    "        'Wissenschaftliche Hilfskraft (mit Bachelor-Abschluss)',\n",
    "        '{} Stunden / Woche für {} Wochen'.format(whk_hour_week, whk_weeks_total),\n",
    "        '{} - {}'.format(whk_date_start, whk_date_stop),\n",
    "        '%.2f Euro Gesamt' % whk_pay_total,\n",
    "        'Nein [Neueinstellung]',\n",
    "        ['Durchführung der Evaluation und Überprüfungsfragen', 'Auswertung der Evaluationen und Überprüfungsfragen', 'Bereitstellung der Ergebnisse der Evaluationen und Überprüfungsfragen als Material für die Lehreinheiten' 'Unterstützung bei Präsentationen und Berichten']\n",
    "    ],\n",
    "    [\n",
    "        'Akademische Tutor:in',\n",
    "        '{} SWS / Woche für {} Wochen'.format(tutor_sws_week, tutor_weeks_total),\n",
    "        '{} - {}'.format(tutor_date_start, tutor_date_stop),\n",
    "        '%.2f Euro Gesamt' % tutor_pay_total,\n",
    "        'Nein [Neueinstellung]',\n",
    "        ['Unterstützung bei den Übungen während der Lehrveranstaltungen', 'Vorbereitung und Nachbereitung unmittelbar vor und nach der Lehrveranstaltung', 'Betreuung Studierenden während den Übungen', 'Hilfestellungen bei technischen Problemen im hybriden Lehr-Lern-Setting']\n",
    "    ],\n",
    "]\n",
    "df_personel = pd.DataFrame(events, columns=column_names)\n",
    "display(df_personel)"
   ]
  },
  {
   "cell_type": "markdown",
   "metadata": {},
   "source": [
    "## Sachmitteleinsatz\n",
    "Bitte geben Sie in der nachfolgenden Tabelle (dem Beispiel entsprechend) an,\n",
    "- um welche Art Sachmittel es sich handelt,\n",
    "- welche Kosten hierdurch entstehen und\n",
    "- wozu die die Sachmittel jeweils verwendet werden sollen (Einsatz im Projekt)."
   ]
  },
  {
   "cell_type": "code",
   "execution_count": null,
   "metadata": {
    "tags": [
     "remove-input"
    ]
   },
   "outputs": [],
   "source": [
    "import pandas as pd\n",
    "from IPython.display import display\n",
    "costs_train = 100\n",
    "costs_accommodation = 100\n",
    "costs_total = costs_train + costs_accommodation\n",
    "\n",
    "column_names = ['Sachmittelart', 'Kosten', 'Einsatz im Projekt']\n",
    "events = [\n",
    "    [\n",
    "        'Reisekosten für Frau MSc. Adina Wagner (Fahrt mit der Deutschen Bahn, Übernachtung, Verpflegung)',\n",
    "        '%.2f Euro' % costs_total,\n",
    "        'Referentin für Einführung in DataLad (siehe Details unten)',\n",
    "    ],\n",
    "]\n",
    "df_expenses = pd.DataFrame(events, columns=column_names)\n",
    "display(df_expenses)"
   ]
  },
  {
   "cell_type": "markdown",
   "metadata": {},
   "source": [
    "Für die Einführung in die Software DataLad soll Frau MSc. Adina Wagner als Referentin eingeladen werden.\n",
    "Frau Wagner ist studierte Psychologin und Doktorandin in der Forschungsgruppe \"Psychoinformatik\" am Institut für Neurowissenschaften und Medizin (INM), Abteilung Gehirn und Verhalten (INM-7) des Forschungszentrums Jülich.\n",
    "Sie ist maßgeblich an der Entwicklung von DataLad beteiligt und Erstautorin des DataLad Handbooks (http://handbook.datalad.org/en/latest/), welches eine zentrale Lernressource für DataLad ist.\n",
    "Zudem hat Frau Wagner in zahlreichen Präsentationen, Tutorials und Workshops zu DataLad referiert (siehe z.B. https://github.com/datalad/tutorials).\n",
    "Ihre Expertise ermöglicht den Studierenden wertvolle Einblicke in die Hintergründe der Entwicklung von DataLad, die über das Wissen der Lehrenden hinausgeht.\n",
    "Bei DataLad handelt es sich um eine nicht-kommerzielle open-source Software, die primär zur kostenlosen Anwendung in der Forschung und Lehre entwickelt wird.\n",
    "Die Anwendung von DataLad ist zentraler Lerninhalt des vorliegenden Lehrprojekts."
   ]
  }
 ],
 "metadata": {
  "kernelspec": {
   "display_name": "Python 3.10.7 ('env': venv)",
   "language": "python",
   "name": "python3"
  },
  "language_info": {
   "codemirror_mode": {
    "name": "ipython",
    "version": 3
   },
   "file_extension": ".py",
   "mimetype": "text/x-python",
   "name": "python",
   "nbconvert_exporter": "python",
   "pygments_lexer": "ipython3",
   "version": "3.10.7"
  },
  "orig_nbformat": 4,
  "vscode": {
   "interpreter": {
    "hash": "c2e4b27d2b2866ac3963aeec86b6f8dd5d91c6a801287beb2d845a83c4b6868e"
   }
  }
 },
 "nbformat": 4,
 "nbformat_minor": 2
}
