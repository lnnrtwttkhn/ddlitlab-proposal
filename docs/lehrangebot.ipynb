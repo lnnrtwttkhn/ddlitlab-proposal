{
 "cells": [
  {
   "cell_type": "markdown",
   "metadata": {},
   "source": [
    "# Beschreibung des Lehrangebots\n",
    "\n",
    "(maximal 3.750 Zeichen – exklusive Leerzeichen)\n",
    "\n",
    "Erläutern Sie hier bitte:\n",
    "\n",
    "1. Die Inhalte Ihrer Lehrveranstaltung.\n",
    "1. Ihr Verständnis von Data Literacy, welche Aspekte von Data Literacy Sie in Ihrem Projekt aufgreifen und den Beitrag Ihrer Projektidee für die Data Literacy Education an der UHH.\n",
    "1. Möglichkeiten der Übertragbarkeit und Verstetigung Ihres Lehrangebots.\n",
    "\n",
    "---"
   ]
  },
  {
   "cell_type": "markdown",
   "metadata": {
    "tags": [
     "countthis"
    ]
   },
   "source": [
    "Die digitalen Objekte auf unseren Computern sind in einem ständigen Wandel.\n",
    "Manuskripte, Programmiercode und Forschungsdaten werden über lange Zeiträume kontinuierlich und oft kollaborativ verändert.\n",
    "Die systematische Dokumentation dieser Veränderungen bildet die Grundlage für kontrolliertes und reproduzierbares Arbeiten an Code und Daten.\n",
    "\n",
    "In einem Seminar mit praktischen Übungen erlernen Studierende \"Versionskontrolle von Code und Daten mit Git und DataLad\".\n",
    "Versionskontrolle ist das Notizbuch für eine digitale Welt und Git das wohl bekannteste Versionskontrollsystem [^git].\n",
    "Es ermöglicht, Veränderungen in digitalen Objekten präzise zu dokumentieren und damit nachzuvollziehen, wer was wann wie und warum in einer Datei verändert hat.\n",
    "Änderungen können revidiert, Versionen miteinander verglichen und wiederhergestellt werden.\n",
    "Zudem kann simultan an der gleichen Datei gearbeitet und parallele Versionen systematisch integriert werden.\n",
    "Darüber hinaus ermöglicht Git effektive Kollaboration.\n",
    "Über Plattformen wie GitHub oder GitLab können Code und Daten mit der Welt geteilt, von anderen transparent eingesehen, genutzt und kollaborativ weiterentwickelt werden.\n",
    "Damit trägt Versionskontrolle dazu bei, dass aus Daten generiertes Wissen transparent, zugänglich und verifizierbar ist.\n",
    "Als effektive Methode zur Speicherung und Bearbeitung von Code und Daten stellt Versionskontrolle damit eine Kernkompetenz der Data Literacy dar.\n",
    "\n",
    "Da Git für die Versionierung von kleinen, textbasierten Dateien (wie Programmiercode) entwickelt wurde, ist die Nutzbarkeit bei größeren, binären Dateien (wie Bild- oder Videodaten) aus technischen Gründen limitiert.\n",
    "Die open-source Software DataLad [^datalad] erweitert die Funktionen von Git, um Versionskontrolle für große Datenmengen (bis zu mehreren Terabyte) zu ermöglichen.\n",
    "DataLad ist auf beliebige Datenstrukturen anwendbar und unabhängig von einer zentralen Infrastruktur oder Drittanbietern.\n",
    "Wie Git ermöglicht DataLad Veränderungen von Daten nachzuverfolgen und vorherige Versionen eines Datensatzes wiederherzustellen.\n",
    "Weiterhin erlaubt es DataLad die digitale Provenienz von Daten zu erfassen und Analysen der Daten exakt zu reproduzieren.\n",
    "Darüber hinaus können mithilfe von DataLad eigene Daten auf einer Vielzahl von Plattformen veröffentlicht oder existierende Daten genutzt werden.\n",
    "\n",
    "Im ihrem Studium erhalten Psychologie-Studierende eine facettenreiche Ausbildung in Forschungsmethodik, Statistik und Wissenschaftlichem Arbeiten.\n",
    "Das Lehrkonzept ergänzt praxisorientierte Kompetenzen im effektiven Umgang mit Programmiercode und Forschungsdaten.\n",
    "Die erlernten Fähigkeiten kommen insbesondere im Rahmen empirischer Abschlussarbeiten und experimentalpsychologischer Praktika zur Anwendung.\n",
    "Die Diskussion von Konzepten wie Reproduzierbarkeit, Open Code und Open Data unterstützt das Wissenschaftsverständnis und Prinzipien guter wissenschaftlicher Praxis.\n",
    "Aufgrund ihrer umfangreichen methodischen Ausbildung sind Psycholog:innen neben beruflichen Tätigkeiten in der Forschung auch für Karrieren als Data Analyst oder Data Scientist in der Wirtschaft gefragt.\n",
    "Da Versionskontrolle zum Standard in der professionellen Softwareentwicklung gehört, wird die Employability und Innovationsfähigkeit der Absolvent:innen erhöht.\n",
    "Neben diesen praktischen Kompetenzen werden den Studierenden theoretische Konzepte in den Bereichen Open Science, Open Code, Open Data und Open Source vermittelt.\n",
    "Dies befähigt zu einer reflektierten Auseinandersetzung mit zunehmend digitalen und datengetriebenen wirtschaftlichen und gesellschaftlichen Prozessen und fördert so partizipatives \"Self Empowered Citizenship\".\n",
    "\n",
    "Eine Verstetigung des Lehrkonzepts innerhalb der Psychologie, insbesondere in einem geplanten forschungsorientierten Masterstudiengangs ab WiSe 23/24, ist avisiert.\n",
    "Fähigkeiten im Umgang mit Versionskontrolle sind in allen Fachbereichen relevant, in denen digitale Daten verarbeitet werden.\n",
    "Die Lehrinhalte und praktischen Übungen sind inhaltlich auch fächerübergreifend lehrbar und daher sehr gut auf andere Studiengänge übertragbar.\n",
    "Die Veröffentlichung von allen Lehrmaterialien als Open Educational Resources ermöglicht eine unabhängige Nachnutzung und Weiterentwicklung (siehe [Lehrkonzept](./lehrkonzept.ipynb))."
   ]
  },
  {
   "cell_type": "code",
   "execution_count": null,
   "metadata": {
    "tags": [
     "remove-input"
    ]
   },
   "outputs": [],
   "source": [
    "!python ../scripts/wordcount.py lehrangebot.ipynb"
   ]
  },
  {
   "cell_type": "markdown",
   "metadata": {},
   "source": [
    "[^git]: https://git-scm.com/\n",
    "[^datalad]: https://www.datalad.org/"
   ]
  }
 ],
 "metadata": {
  "kernelspec": {
   "display_name": "Python 3.10.7 ('env': venv)",
   "language": "python",
   "name": "python3"
  },
  "language_info": {
   "name": "python",
   "version": "3.10.7"
  },
  "orig_nbformat": 4,
  "vscode": {
   "interpreter": {
    "hash": "c2e4b27d2b2866ac3963aeec86b6f8dd5d91c6a801287beb2d845a83c4b6868e"
   }
  }
 },
 "nbformat": 4,
 "nbformat_minor": 2
}
