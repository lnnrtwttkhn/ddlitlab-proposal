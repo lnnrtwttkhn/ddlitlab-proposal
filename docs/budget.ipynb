{
 "cells": [
  {
   "cell_type": "markdown",
   "metadata": {},
   "source": [
    "# Budget\n",
    "\n",
    "Eine rückwirkende Berechnung des Budgets am Ende des Finanzierungszeitraums des Projekts."
   ]
  },
  {
   "cell_type": "markdown",
   "metadata": {},
   "source": [
    "## Personalmittel"
   ]
  },
  {
   "cell_type": "code",
   "execution_count": null,
   "metadata": {
    "tags": [
     "hide-input"
    ]
   },
   "outputs": [],
   "source": [
    "import pandas as pd\n",
    "from IPython.display import display, HTML\n",
    "pd.set_option('display.max_columns', None)\n",
    "pd.set_option('display.max_rows', None)\n",
    "\n",
    "wimi_date_start = '01.04.2023'\n",
    "wimi_date_stop = '31.03.2024'\n",
    "wimi_pay_total = 38305.37\n",
    "\n",
    "# https://www.kus.uni-hamburg.de/themen/personalservice/personaleinstellung-weiterbeschaeftigung/shk-tutoren-studierende-angestellte.html\n",
    "whk_date_start = '01.06.2023'\n",
    "whk_date_stop = '31.03.2024'\n",
    "whk_hour_week = 8  # how many hours should the whk work per week\n",
    "whk_hour_month = whk_hour_week * 4\n",
    "whk_pay_total = 5145.54\n",
    "\n",
    "# https://www.kus.uni-hamburg.de/themen/personalservice/personaleinstellung-weiterbeschaeftigung/shk-tutoren-studierende-angestellte.html\n",
    "# Vorlesungszeitraum: 9. Oktober 2023 bis zum 27. Januar 2024\n",
    "tutor_date_start = '16.10.2023'\n",
    "tutor_date_stop = '31.01.2024'\n",
    "tutor_sws_week = 2 # how many SWS should the tutor work per week\n",
    "tutor_pay_total = 1304.74\n",
    "\n",
    "costs_staff = wimi_pay_total + whk_pay_total + tutor_pay_total\n",
    "\n",
    "column_names_staff = ['Personalart', 'Stellenanteil', 'Einstellungszeitraum', 'Kosten']\n",
    "events_staff = [\n",
    "    [\n",
    "        'Wissenschaftliche:r Mitarbeiter:in E 13, Stufe 3',\n",
    "        '50 %',\n",
    "        '{} - {}'.format(wimi_date_start, wimi_date_stop),\n",
    "        '%.2f Euro ' % wimi_pay_total\n",
    "    ],\n",
    "    [\n",
    "        'Studentische Hilfskraft',\n",
    "        '{} Stunden pro Monat'.format(whk_hour_month),\n",
    "        '{} - {}'.format(whk_date_start, whk_date_stop),\n",
    "        '%.2f Euro' % whk_pay_total\n",
    "    ],\n",
    "    [\n",
    "        'Studentische Tutor:in',\n",
    "        '{} SWS / Woche'.format(tutor_sws_week),\n",
    "        '{} - {}'.format(tutor_date_start, tutor_date_stop),\n",
    "        '%.2f Euro' % tutor_pay_total\n",
    "    ]\n",
    "]\n",
    "\n",
    "df_staff = pd.DataFrame(events_staff, columns=column_names_staff)\n",
    "display(HTML(df_staff.to_html(index=False)))"
   ]
  },
  {
   "cell_type": "markdown",
   "metadata": {},
   "source": [
    "## Sachmittel"
   ]
  },
  {
   "cell_type": "code",
   "execution_count": null,
   "metadata": {
    "tags": [
     "hide-input"
    ]
   },
   "outputs": [],
   "source": [
    "costs_plausible = 107.1\n",
    "costs_quest = 61.3\n",
    "costs_books = 60.0\n",
    "costs_materials = costs_plausible + costs_quest + costs_books\n",
    "\n",
    "column_names_materials = ['Sachmittelart', 'Einsatz im Projekt', 'Kosten']\n",
    "events_materials = [\n",
    "    [\n",
    "        'Plausible',\n",
    "        'Website Analytics',\n",
    "        '%.2f Euro' % costs_plausible,\n",
    "    ],\n",
    "    [\n",
    "        'Bahnfahrt (Hin- und Rückfahrt) Hamburg - Berlin',\n",
    "        'Vortrag im QUEST-Center Berlin',\n",
    "        '%.2f Euro' % costs_quest,\n",
    "    ],\n",
    "    [\n",
    "        'Bücher',\n",
    "        'Bücher über Git',\n",
    "        '%.2f Euro' % costs_books,\n",
    "    ]\n",
    "]\n",
    "df_materials = pd.DataFrame(events_materials, columns=column_names_materials)\n",
    "display(HTML(df_materials.to_html(index=False)))"
   ]
  },
  {
   "cell_type": "markdown",
   "metadata": {},
   "source": [
    "## Gesamtkosten"
   ]
  },
  {
   "cell_type": "code",
   "execution_count": null,
   "metadata": {
    "tags": [
     "hide-input"
    ]
   },
   "outputs": [],
   "source": [
    "total_costs = costs_staff + costs_materials\n",
    "print('Personalmittel: %.2f Euro ' % costs_staff)\n",
    "print('Sachmittel: %.2f Euro ' % costs_materials)\n",
    "print('Gesamtkosten: %.2f Euro ' % total_costs)"
   ]
  }
 ],
 "metadata": {
  "kernelspec": {
   "display_name": "Python 3.10.7 ('env': venv)",
   "language": "python",
   "name": "python3"
  },
  "language_info": {
   "codemirror_mode": {
    "name": "ipython",
    "version": 3
   },
   "file_extension": ".py",
   "mimetype": "text/x-python",
   "name": "python",
   "nbconvert_exporter": "python",
   "pygments_lexer": "ipython3",
   "version": "3.11.8"
  },
  "orig_nbformat": 4,
  "vscode": {
   "interpreter": {
    "hash": "c2e4b27d2b2866ac3963aeec86b6f8dd5d91c6a801287beb2d845a83c4b6868e"
   }
  }
 },
 "nbformat": 4,
 "nbformat_minor": 2
}
